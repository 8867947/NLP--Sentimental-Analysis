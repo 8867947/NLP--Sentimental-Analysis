{
 "cells": [
  {
   "cell_type": "code",
   "execution_count": 6,
   "metadata": {},
   "outputs": [
    {
     "name": "stdout",
     "output_type": "stream",
     "text": [
      "Collecting WordCloud\n",
      "  Downloading wordcloud-1.8.1-cp38-cp38-win_amd64.whl (155 kB)\n",
      "Requirement already satisfied: numpy>=1.6.1 in c:\\users\\piyush\\anaconda3\\lib\\site-packages (from WordCloud) (1.19.2)\n",
      "Requirement already satisfied: matplotlib in c:\\users\\piyush\\anaconda3\\lib\\site-packages (from WordCloud) (3.3.2)\n",
      "Requirement already satisfied: pillow in c:\\users\\piyush\\anaconda3\\lib\\site-packages (from WordCloud) (8.0.1)\n",
      "Requirement already satisfied: python-dateutil>=2.1 in c:\\users\\piyush\\anaconda3\\lib\\site-packages (from matplotlib->WordCloud) (2.8.1)\n",
      "Requirement already satisfied: certifi>=2020.06.20 in c:\\users\\piyush\\anaconda3\\lib\\site-packages (from matplotlib->WordCloud) (2020.6.20)\n",
      "Requirement already satisfied: kiwisolver>=1.0.1 in c:\\users\\piyush\\anaconda3\\lib\\site-packages (from matplotlib->WordCloud) (1.3.0)\n",
      "Requirement already satisfied: pyparsing!=2.0.4,!=2.1.2,!=2.1.6,>=2.0.3 in c:\\users\\piyush\\anaconda3\\lib\\site-packages (from matplotlib->WordCloud) (2.4.7)\n",
      "Requirement already satisfied: cycler>=0.10 in c:\\users\\piyush\\anaconda3\\lib\\site-packages (from matplotlib->WordCloud) (0.10.0)\n",
      "Note: you may need to restart the kernel to use updated packages.Requirement already satisfied: six>=1.5 in c:\\users\\piyush\\anaconda3\\lib\\site-packages (from python-dateutil>=2.1->matplotlib->WordCloud) (1.15.0)\n",
      "\n",
      "Installing collected packages: WordCloud\n",
      "Successfully installed WordCloud-1.8.1\n"
     ]
    }
   ],
   "source": [
    "pip install WordCloud\n"
   ]
  },
  {
   "cell_type": "code",
   "execution_count": 2,
   "metadata": {},
   "outputs": [
    {
     "name": "stdout",
     "output_type": "stream",
     "text": [
      "Collecting tweepy\n",
      "  Downloading tweepy-3.10.0-py2.py3-none-any.whl (30 kB)\n",
      "Requirement already satisfied: six>=1.10.0 in c:\\users\\piyush\\anaconda3\\lib\\site-packages (from tweepy) (1.15.0)\n",
      "Requirement already satisfied: requests[socks]>=2.11.1 in c:\\users\\piyush\\anaconda3\\lib\\site-packages (from tweepy) (2.24.0)\n",
      "Collecting requests-oauthlib>=0.7.0\n",
      "  Downloading requests_oauthlib-1.3.0-py2.py3-none-any.whl (23 kB)\n",
      "Requirement already satisfied: urllib3!=1.25.0,!=1.25.1,<1.26,>=1.21.1 in c:\\users\\piyush\\anaconda3\\lib\\site-packages (from requests[socks]>=2.11.1->tweepy) (1.25.11)\n",
      "Requirement already satisfied: certifi>=2017.4.17 in c:\\users\\piyush\\anaconda3\\lib\\site-packages (from requests[socks]>=2.11.1->tweepy) (2020.6.20)\n",
      "Requirement already satisfied: idna<3,>=2.5 in c:\\users\\piyush\\anaconda3\\lib\\site-packages (from requests[socks]>=2.11.1->tweepy) (2.10)\n",
      "Requirement already satisfied: chardet<4,>=3.0.2 in c:\\users\\piyush\\anaconda3\\lib\\site-packages (from requests[socks]>=2.11.1->tweepy) (3.0.4)\n",
      "Requirement already satisfied: PySocks!=1.5.7,>=1.5.6; extra == \"socks\" in c:\\users\\piyush\\anaconda3\\lib\\site-packages (from requests[socks]>=2.11.1->tweepy) (1.7.1)\n",
      "Collecting oauthlib>=3.0.0\n",
      "  Downloading oauthlib-3.1.0-py2.py3-none-any.whl (147 kB)\n",
      "Installing collected packages: oauthlib, requests-oauthlib, tweepy\n",
      "Successfully installed oauthlib-3.1.0 requests-oauthlib-1.3.0 tweepy-3.10.0\n",
      "Note: you may need to restart the kernel to use updated packages.\n"
     ]
    }
   ],
   "source": [
    "pip install tweepy"
   ]
  },
  {
   "cell_type": "code",
   "execution_count": 9,
   "metadata": {},
   "outputs": [],
   "source": [
    "import tweepy\n",
    "from textblob import TextBlob\n",
    "from wordcloud import WordCloud\n",
    "import pandas as pd\n",
    "import re\n",
    "import numpy as np\n",
    "import matplotlib.pyplot as plt\n",
    "plt.style.use('fivethirtyeight')"
   ]
  },
  {
   "cell_type": "code",
   "execution_count": 27,
   "metadata": {},
   "outputs": [],
   "source": [
    "# Login File contains twitter consumerkey, consumerSecret, accessToken,accessTokenSecret\n",
    "csvfile = pd.read_csv(\"Login.csv\")"
   ]
  },
  {
   "cell_type": "code",
   "execution_count": 28,
   "metadata": {},
   "outputs": [
    {
     "data": {
      "text/html": [
       "<div>\n",
       "<style scoped>\n",
       "    .dataframe tbody tr th:only-of-type {\n",
       "        vertical-align: middle;\n",
       "    }\n",
       "\n",
       "    .dataframe tbody tr th {\n",
       "        vertical-align: top;\n",
       "    }\n",
       "\n",
       "    .dataframe thead th {\n",
       "        text-align: right;\n",
       "    }\n",
       "</style>\n",
       "<table border=\"1\" class=\"dataframe\">\n",
       "  <thead>\n",
       "    <tr style=\"text-align: right;\">\n",
       "      <th></th>\n",
       "      <th>Data</th>\n",
       "    </tr>\n",
       "  </thead>\n",
       "  <tbody>\n",
       "    <tr>\n",
       "      <th>0</th>\n",
       "      <td>ZkYFSbvBeaUlYZ4i0bTJ8oZK5</td>\n",
       "    </tr>\n",
       "    <tr>\n",
       "      <th>1</th>\n",
       "      <td>comSGIc5zuMOXLKUmt9UB0qH71RnvNAxaDzoLKUsIwdskS...</td>\n",
       "    </tr>\n",
       "    <tr>\n",
       "      <th>2</th>\n",
       "      <td>1386557733533478918-jXQvanwb9mndJCrKFZ5INoKHcT...</td>\n",
       "    </tr>\n",
       "    <tr>\n",
       "      <th>3</th>\n",
       "      <td>Nlu2um3bgT0QCorILbVMAImcEq8iHu9OgcTLHeLJ9kVLQ</td>\n",
       "    </tr>\n",
       "  </tbody>\n",
       "</table>\n",
       "</div>"
      ],
      "text/plain": [
       "                                                Data\n",
       "0                          ZkYFSbvBeaUlYZ4i0bTJ8oZK5\n",
       "1  comSGIc5zuMOXLKUmt9UB0qH71RnvNAxaDzoLKUsIwdskS...\n",
       "2  1386557733533478918-jXQvanwb9mndJCrKFZ5INoKHcT...\n",
       "3      Nlu2um3bgT0QCorILbVMAImcEq8iHu9OgcTLHeLJ9kVLQ"
      ]
     },
     "execution_count": 28,
     "metadata": {},
     "output_type": "execute_result"
    }
   ],
   "source": [
    "csvfile"
   ]
  },
  {
   "cell_type": "code",
   "execution_count": 29,
   "metadata": {},
   "outputs": [],
   "source": [
    "consumerkey = csvfile.Data[0]\n",
    "consumerSecret = csvfile.Data[1]\n",
    "accessToken = csvfile.Data[2]\n",
    "accessTokenSecret = csvfile.Data[3]\n",
    "    "
   ]
  },
  {
   "cell_type": "code",
   "execution_count": 30,
   "metadata": {},
   "outputs": [],
   "source": [
    "authenticate = tweepy.OAuthHandler(consumerkey,consumerSecret)"
   ]
  },
  {
   "cell_type": "code",
   "execution_count": 31,
   "metadata": {},
   "outputs": [],
   "source": [
    "authenticate.set_access_token(accessToken, accessTokenSecret)"
   ]
  },
  {
   "cell_type": "code",
   "execution_count": 32,
   "metadata": {},
   "outputs": [],
   "source": [
    "api =tweepy.API(authenticate,wait_on_rate_limit= True)"
   ]
  },
  {
   "cell_type": "code",
   "execution_count": 36,
   "metadata": {},
   "outputs": [],
   "source": [
    "# extract tweets from twitter user\n",
    "posts = api.user_timeline(screen_name=\"BillGates\",count=100, lang = \"en\", tweet_mode=\"extended\")"
   ]
  },
  {
   "cell_type": "code",
   "execution_count": 39,
   "metadata": {},
   "outputs": [
    {
     "name": "stdout",
     "output_type": "stream",
     "text": [
      "show the 5 recent tweets:  \n",
      "\n",
      "1)RT @WHO: The @ACTAccelerator, an unprecedented global alliance to develop &amp; deliver the tests, treatments &amp; vaccines the 🌐 needs to fight #…\n",
      "\n",
      "2)I was honored to speak at today’s #LeadersClimateSummit about the three things we need to do to avoid a climate disaster. https://t.co/0YJJyabeIn\n",
      "\n",
      "3)Ambitious short-term goals like this are critical to moving closer to a net-zero future. As we rapidly scale the solutions we have, we must also invest in innovation to reach our ultimate goals. Thank you @POTUS for your leadership. https://t.co/SVeKp1KPHT\n",
      "\n",
      "4)It’s encouraging to see @POTUS Biden and @ClimateEnvoy Kerry re-establish America’s leading role on climate change. I look forward to joining leaders from around the world to talk about some of the most important challenges we need to overcome to avoid a climate disaster. https://t.co/a9CXZzIg6Y\n",
      "\n",
      "5)Yesterday's verdict was a step in the right direction. But one court ruling alone will not bring to an end the injustice and inequity that Black people experience daily.  I hope we will continue to make real progress on this.\n",
      "\n"
     ]
    }
   ],
   "source": [
    "print(\"show the 5 recent tweets:  \\n\")\n",
    "i=1\n",
    "for tweet in posts[0:5]:\n",
    "    print(str(i)+ ')' +tweet.full_text + '\\n')\n",
    "    i= i+1"
   ]
  },
  {
   "cell_type": "code",
   "execution_count": 40,
   "metadata": {},
   "outputs": [],
   "source": [
    "# create dataframe\n",
    "df = pd.DataFrame([tweet.full_text for tweet in posts], columns=['Tweets'])"
   ]
  },
  {
   "cell_type": "code",
   "execution_count": 41,
   "metadata": {},
   "outputs": [
    {
     "data": {
      "text/html": [
       "<div>\n",
       "<style scoped>\n",
       "    .dataframe tbody tr th:only-of-type {\n",
       "        vertical-align: middle;\n",
       "    }\n",
       "\n",
       "    .dataframe tbody tr th {\n",
       "        vertical-align: top;\n",
       "    }\n",
       "\n",
       "    .dataframe thead th {\n",
       "        text-align: right;\n",
       "    }\n",
       "</style>\n",
       "<table border=\"1\" class=\"dataframe\">\n",
       "  <thead>\n",
       "    <tr style=\"text-align: right;\">\n",
       "      <th></th>\n",
       "      <th>Tweets</th>\n",
       "    </tr>\n",
       "  </thead>\n",
       "  <tbody>\n",
       "    <tr>\n",
       "      <th>0</th>\n",
       "      <td>RT @WHO: The @ACTAccelerator, an unprecedented...</td>\n",
       "    </tr>\n",
       "    <tr>\n",
       "      <th>1</th>\n",
       "      <td>I was honored to speak at today’s #LeadersClim...</td>\n",
       "    </tr>\n",
       "    <tr>\n",
       "      <th>2</th>\n",
       "      <td>Ambitious short-term goals like this are criti...</td>\n",
       "    </tr>\n",
       "    <tr>\n",
       "      <th>3</th>\n",
       "      <td>It’s encouraging to see @POTUS Biden and @Clim...</td>\n",
       "    </tr>\n",
       "    <tr>\n",
       "      <th>4</th>\n",
       "      <td>Yesterday's verdict was a step in the right di...</td>\n",
       "    </tr>\n",
       "    <tr>\n",
       "      <th>...</th>\n",
       "      <td>...</td>\n",
       "    </tr>\n",
       "    <tr>\n",
       "      <th>95</th>\n",
       "      <td>This book has nothing to do with viruses or pa...</td>\n",
       "    </tr>\n",
       "    <tr>\n",
       "      <th>96</th>\n",
       "      <td>Monoclonal antibodies are one of the most prom...</td>\n",
       "    </tr>\n",
       "    <tr>\n",
       "      <th>97</th>\n",
       "      <td>RT @AlzData: We’re looking for new ways to adv...</td>\n",
       "    </tr>\n",
       "    <tr>\n",
       "      <th>98</th>\n",
       "      <td>Like many people, I’ve tried to deepen my unde...</td>\n",
       "    </tr>\n",
       "    <tr>\n",
       "      <th>99</th>\n",
       "      <td>The season finale of our podcast features two ...</td>\n",
       "    </tr>\n",
       "  </tbody>\n",
       "</table>\n",
       "<p>100 rows × 1 columns</p>\n",
       "</div>"
      ],
      "text/plain": [
       "                                               Tweets\n",
       "0   RT @WHO: The @ACTAccelerator, an unprecedented...\n",
       "1   I was honored to speak at today’s #LeadersClim...\n",
       "2   Ambitious short-term goals like this are criti...\n",
       "3   It’s encouraging to see @POTUS Biden and @Clim...\n",
       "4   Yesterday's verdict was a step in the right di...\n",
       "..                                                ...\n",
       "95  This book has nothing to do with viruses or pa...\n",
       "96  Monoclonal antibodies are one of the most prom...\n",
       "97  RT @AlzData: We’re looking for new ways to adv...\n",
       "98  Like many people, I’ve tried to deepen my unde...\n",
       "99  The season finale of our podcast features two ...\n",
       "\n",
       "[100 rows x 1 columns]"
      ]
     },
     "execution_count": 41,
     "metadata": {},
     "output_type": "execute_result"
    }
   ],
   "source": [
    "df"
   ]
  },
  {
   "cell_type": "code",
   "execution_count": 42,
   "metadata": {},
   "outputs": [],
   "source": [
    "# clean the data\n",
    "def clean(text):\n",
    "    text = re.sub(r'@[a-zA-Z0-9]+', '', text) # r means it tell the python its a raw string  # remove @mentions\n",
    "    text = re.sub(r'#','',text)\n",
    "    text = re.sub(r'RT[\\s]+','', text) # removing RT\n",
    "    text = re.sub(r'https?:\\/\\/\\S+','',text) # remove hyper link\n",
    "    return text\n",
    "    \n",
    "    "
   ]
  },
  {
   "cell_type": "code",
   "execution_count": 43,
   "metadata": {},
   "outputs": [
    {
     "data": {
      "text/html": [
       "<div>\n",
       "<style scoped>\n",
       "    .dataframe tbody tr th:only-of-type {\n",
       "        vertical-align: middle;\n",
       "    }\n",
       "\n",
       "    .dataframe tbody tr th {\n",
       "        vertical-align: top;\n",
       "    }\n",
       "\n",
       "    .dataframe thead th {\n",
       "        text-align: right;\n",
       "    }\n",
       "</style>\n",
       "<table border=\"1\" class=\"dataframe\">\n",
       "  <thead>\n",
       "    <tr style=\"text-align: right;\">\n",
       "      <th></th>\n",
       "      <th>Tweets</th>\n",
       "    </tr>\n",
       "  </thead>\n",
       "  <tbody>\n",
       "    <tr>\n",
       "      <th>0</th>\n",
       "      <td>: The , an unprecedented global alliance to de...</td>\n",
       "    </tr>\n",
       "    <tr>\n",
       "      <th>1</th>\n",
       "      <td>I was honored to speak at today’s LeadersClima...</td>\n",
       "    </tr>\n",
       "    <tr>\n",
       "      <th>2</th>\n",
       "      <td>Ambitious short-term goals like this are criti...</td>\n",
       "    </tr>\n",
       "    <tr>\n",
       "      <th>3</th>\n",
       "      <td>It’s encouraging to see  Biden and  Kerry re-e...</td>\n",
       "    </tr>\n",
       "    <tr>\n",
       "      <th>4</th>\n",
       "      <td>Yesterday's verdict was a step in the right di...</td>\n",
       "    </tr>\n",
       "    <tr>\n",
       "      <th>...</th>\n",
       "      <td>...</td>\n",
       "    </tr>\n",
       "    <tr>\n",
       "      <th>95</th>\n",
       "      <td>This book has nothing to do with viruses or pa...</td>\n",
       "    </tr>\n",
       "    <tr>\n",
       "      <th>96</th>\n",
       "      <td>Monoclonal antibodies are one of the most prom...</td>\n",
       "    </tr>\n",
       "    <tr>\n",
       "      <th>97</th>\n",
       "      <td>: We’re looking for new ways to advance Alzhei...</td>\n",
       "    </tr>\n",
       "    <tr>\n",
       "      <th>98</th>\n",
       "      <td>Like many people, I’ve tried to deepen my unde...</td>\n",
       "    </tr>\n",
       "    <tr>\n",
       "      <th>99</th>\n",
       "      <td>The season finale of our podcast features two ...</td>\n",
       "    </tr>\n",
       "  </tbody>\n",
       "</table>\n",
       "<p>100 rows × 1 columns</p>\n",
       "</div>"
      ],
      "text/plain": [
       "                                               Tweets\n",
       "0   : The , an unprecedented global alliance to de...\n",
       "1   I was honored to speak at today’s LeadersClima...\n",
       "2   Ambitious short-term goals like this are criti...\n",
       "3   It’s encouraging to see  Biden and  Kerry re-e...\n",
       "4   Yesterday's verdict was a step in the right di...\n",
       "..                                                ...\n",
       "95  This book has nothing to do with viruses or pa...\n",
       "96  Monoclonal antibodies are one of the most prom...\n",
       "97  : We’re looking for new ways to advance Alzhei...\n",
       "98  Like many people, I’ve tried to deepen my unde...\n",
       "99  The season finale of our podcast features two ...\n",
       "\n",
       "[100 rows x 1 columns]"
      ]
     },
     "execution_count": 43,
     "metadata": {},
     "output_type": "execute_result"
    }
   ],
   "source": [
    "df['Tweets'] =df['Tweets'].apply(clean)\n",
    "\n",
    "# cleaning text\n",
    "df"
   ]
  },
  {
   "cell_type": "code",
   "execution_count": 44,
   "metadata": {},
   "outputs": [],
   "source": [
    "# create a function to get subjectivity\n",
    "def getSubjectivity(text):\n",
    "    return TextBlob(text).sentiment.subjectivity\n",
    "\n",
    "#Crete to get polarity\n",
    "def polarity(text):\n",
    "    return TextBlob(text).sentiment.polarity"
   ]
  },
  {
   "cell_type": "code",
   "execution_count": 45,
   "metadata": {},
   "outputs": [
    {
     "data": {
      "text/html": [
       "<div>\n",
       "<style scoped>\n",
       "    .dataframe tbody tr th:only-of-type {\n",
       "        vertical-align: middle;\n",
       "    }\n",
       "\n",
       "    .dataframe tbody tr th {\n",
       "        vertical-align: top;\n",
       "    }\n",
       "\n",
       "    .dataframe thead th {\n",
       "        text-align: right;\n",
       "    }\n",
       "</style>\n",
       "<table border=\"1\" class=\"dataframe\">\n",
       "  <thead>\n",
       "    <tr style=\"text-align: right;\">\n",
       "      <th></th>\n",
       "      <th>Tweets</th>\n",
       "      <th>subjectivity</th>\n",
       "      <th>polarity</th>\n",
       "    </tr>\n",
       "  </thead>\n",
       "  <tbody>\n",
       "    <tr>\n",
       "      <th>0</th>\n",
       "      <td>: The , an unprecedented global alliance to de...</td>\n",
       "      <td>0.450000</td>\n",
       "      <td>0.300000</td>\n",
       "    </tr>\n",
       "    <tr>\n",
       "      <th>1</th>\n",
       "      <td>I was honored to speak at today’s LeadersClima...</td>\n",
       "      <td>0.000000</td>\n",
       "      <td>0.000000</td>\n",
       "    </tr>\n",
       "    <tr>\n",
       "      <th>2</th>\n",
       "      <td>Ambitious short-term goals like this are criti...</td>\n",
       "      <td>0.668750</td>\n",
       "      <td>0.062500</td>\n",
       "    </tr>\n",
       "    <tr>\n",
       "      <th>3</th>\n",
       "      <td>It’s encouraging to see  Biden and  Kerry re-e...</td>\n",
       "      <td>0.750000</td>\n",
       "      <td>0.450000</td>\n",
       "    </tr>\n",
       "    <tr>\n",
       "      <th>4</th>\n",
       "      <td>Yesterday's verdict was a step in the right di...</td>\n",
       "      <td>0.317262</td>\n",
       "      <td>0.079762</td>\n",
       "    </tr>\n",
       "    <tr>\n",
       "      <th>...</th>\n",
       "      <td>...</td>\n",
       "      <td>...</td>\n",
       "      <td>...</td>\n",
       "    </tr>\n",
       "    <tr>\n",
       "      <th>95</th>\n",
       "      <td>This book has nothing to do with viruses or pa...</td>\n",
       "      <td>0.966667</td>\n",
       "      <td>0.600000</td>\n",
       "    </tr>\n",
       "    <tr>\n",
       "      <th>96</th>\n",
       "      <td>Monoclonal antibodies are one of the most prom...</td>\n",
       "      <td>0.525714</td>\n",
       "      <td>0.222857</td>\n",
       "    </tr>\n",
       "    <tr>\n",
       "      <th>97</th>\n",
       "      <td>: We’re looking for new ways to advance Alzhei...</td>\n",
       "      <td>0.454545</td>\n",
       "      <td>0.136364</td>\n",
       "    </tr>\n",
       "    <tr>\n",
       "      <th>98</th>\n",
       "      <td>Like many people, I’ve tried to deepen my unde...</td>\n",
       "      <td>0.458000</td>\n",
       "      <td>0.282000</td>\n",
       "    </tr>\n",
       "    <tr>\n",
       "      <th>99</th>\n",
       "      <td>The season finale of our podcast features two ...</td>\n",
       "      <td>0.700000</td>\n",
       "      <td>0.700000</td>\n",
       "    </tr>\n",
       "  </tbody>\n",
       "</table>\n",
       "<p>100 rows × 3 columns</p>\n",
       "</div>"
      ],
      "text/plain": [
       "                                               Tweets  subjectivity  polarity\n",
       "0   : The , an unprecedented global alliance to de...      0.450000  0.300000\n",
       "1   I was honored to speak at today’s LeadersClima...      0.000000  0.000000\n",
       "2   Ambitious short-term goals like this are criti...      0.668750  0.062500\n",
       "3   It’s encouraging to see  Biden and  Kerry re-e...      0.750000  0.450000\n",
       "4   Yesterday's verdict was a step in the right di...      0.317262  0.079762\n",
       "..                                                ...           ...       ...\n",
       "95  This book has nothing to do with viruses or pa...      0.966667  0.600000\n",
       "96  Monoclonal antibodies are one of the most prom...      0.525714  0.222857\n",
       "97  : We’re looking for new ways to advance Alzhei...      0.454545  0.136364\n",
       "98  Like many people, I’ve tried to deepen my unde...      0.458000  0.282000\n",
       "99  The season finale of our podcast features two ...      0.700000  0.700000\n",
       "\n",
       "[100 rows x 3 columns]"
      ]
     },
     "execution_count": 45,
     "metadata": {},
     "output_type": "execute_result"
    }
   ],
   "source": [
    "# create two new columns\n",
    "df['subjectivity'] = df['Tweets'].apply(getSubjectivity)\n",
    "\n",
    "df['polarity'] = df['Tweets'].apply(polarity)\n",
    "df"
   ]
  },
  {
   "cell_type": "code",
   "execution_count": 57,
   "metadata": {},
   "outputs": [
    {
     "data": {
      "image/png": "[encoded data removed]",
      "text/plain": [
       "<Figure size 432x288 with 1 Axes>"
      ]
     },
     "metadata": {},
     "output_type": "display_data"
    }
   ],
   "source": [
    "#plot the world cloud\n",
    "allwords = ' '.join([twts for twts in df['Tweets']])\n",
    "wordcloud = WordCloud(max_font_size=50, max_words=100, background_color=\"white\").generate(allwords)\n",
    "plt.figure()\n",
    "plt.imshow(wordcloud, interpolation=\"bilinear\")\n",
    "plt.axis(\"off\")\n",
    "plt.show()"
   ]
  },
  {
   "cell_type": "code",
   "execution_count": 62,
   "metadata": {},
   "outputs": [],
   "source": [
    "# create a function to compute the neagtive, neutral and positive analysis\n",
    "def getAnalaysis(score):\n",
    "    if score < 0:\n",
    "        return 'Negative'\n",
    "    elif score ==0:\n",
    "        return 'Neutral'\n",
    "    else :\n",
    "        return 'Positive'"
   ]
  },
  {
   "cell_type": "code",
   "execution_count": 63,
   "metadata": {},
   "outputs": [
    {
     "data": {
      "text/html": [
       "<div>\n",
       "<style scoped>\n",
       "    .dataframe tbody tr th:only-of-type {\n",
       "        vertical-align: middle;\n",
       "    }\n",
       "\n",
       "    .dataframe tbody tr th {\n",
       "        vertical-align: top;\n",
       "    }\n",
       "\n",
       "    .dataframe thead th {\n",
       "        text-align: right;\n",
       "    }\n",
       "</style>\n",
       "<table border=\"1\" class=\"dataframe\">\n",
       "  <thead>\n",
       "    <tr style=\"text-align: right;\">\n",
       "      <th></th>\n",
       "      <th>Tweets</th>\n",
       "      <th>subjectivity</th>\n",
       "      <th>polarity</th>\n",
       "      <th>Polarity_Analysis</th>\n",
       "    </tr>\n",
       "  </thead>\n",
       "  <tbody>\n",
       "    <tr>\n",
       "      <th>0</th>\n",
       "      <td>: The , an unprecedented global alliance to de...</td>\n",
       "      <td>0.450000</td>\n",
       "      <td>0.300000</td>\n",
       "      <td>Positive</td>\n",
       "    </tr>\n",
       "    <tr>\n",
       "      <th>1</th>\n",
       "      <td>I was honored to speak at today’s LeadersClima...</td>\n",
       "      <td>0.000000</td>\n",
       "      <td>0.000000</td>\n",
       "      <td>Neutral</td>\n",
       "    </tr>\n",
       "    <tr>\n",
       "      <th>2</th>\n",
       "      <td>Ambitious short-term goals like this are criti...</td>\n",
       "      <td>0.668750</td>\n",
       "      <td>0.062500</td>\n",
       "      <td>Positive</td>\n",
       "    </tr>\n",
       "    <tr>\n",
       "      <th>3</th>\n",
       "      <td>It’s encouraging to see  Biden and  Kerry re-e...</td>\n",
       "      <td>0.750000</td>\n",
       "      <td>0.450000</td>\n",
       "      <td>Positive</td>\n",
       "    </tr>\n",
       "    <tr>\n",
       "      <th>4</th>\n",
       "      <td>Yesterday's verdict was a step in the right di...</td>\n",
       "      <td>0.317262</td>\n",
       "      <td>0.079762</td>\n",
       "      <td>Positive</td>\n",
       "    </tr>\n",
       "    <tr>\n",
       "      <th>...</th>\n",
       "      <td>...</td>\n",
       "      <td>...</td>\n",
       "      <td>...</td>\n",
       "      <td>...</td>\n",
       "    </tr>\n",
       "    <tr>\n",
       "      <th>95</th>\n",
       "      <td>This book has nothing to do with viruses or pa...</td>\n",
       "      <td>0.966667</td>\n",
       "      <td>0.600000</td>\n",
       "      <td>Positive</td>\n",
       "    </tr>\n",
       "    <tr>\n",
       "      <th>96</th>\n",
       "      <td>Monoclonal antibodies are one of the most prom...</td>\n",
       "      <td>0.525714</td>\n",
       "      <td>0.222857</td>\n",
       "      <td>Positive</td>\n",
       "    </tr>\n",
       "    <tr>\n",
       "      <th>97</th>\n",
       "      <td>: We’re looking for new ways to advance Alzhei...</td>\n",
       "      <td>0.454545</td>\n",
       "      <td>0.136364</td>\n",
       "      <td>Positive</td>\n",
       "    </tr>\n",
       "    <tr>\n",
       "      <th>98</th>\n",
       "      <td>Like many people, I’ve tried to deepen my unde...</td>\n",
       "      <td>0.458000</td>\n",
       "      <td>0.282000</td>\n",
       "      <td>Positive</td>\n",
       "    </tr>\n",
       "    <tr>\n",
       "      <th>99</th>\n",
       "      <td>The season finale of our podcast features two ...</td>\n",
       "      <td>0.700000</td>\n",
       "      <td>0.700000</td>\n",
       "      <td>Positive</td>\n",
       "    </tr>\n",
       "  </tbody>\n",
       "</table>\n",
       "<p>100 rows × 4 columns</p>\n",
       "</div>"
      ],
      "text/plain": [
       "                                               Tweets  subjectivity  polarity  \\\n",
       "0   : The , an unprecedented global alliance to de...      0.450000  0.300000   \n",
       "1   I was honored to speak at today’s LeadersClima...      0.000000  0.000000   \n",
       "2   Ambitious short-term goals like this are criti...      0.668750  0.062500   \n",
       "3   It’s encouraging to see  Biden and  Kerry re-e...      0.750000  0.450000   \n",
       "4   Yesterday's verdict was a step in the right di...      0.317262  0.079762   \n",
       "..                                                ...           ...       ...   \n",
       "95  This book has nothing to do with viruses or pa...      0.966667  0.600000   \n",
       "96  Monoclonal antibodies are one of the most prom...      0.525714  0.222857   \n",
       "97  : We’re looking for new ways to advance Alzhei...      0.454545  0.136364   \n",
       "98  Like many people, I’ve tried to deepen my unde...      0.458000  0.282000   \n",
       "99  The season finale of our podcast features two ...      0.700000  0.700000   \n",
       "\n",
       "   Polarity_Analysis  \n",
       "0           Positive  \n",
       "1            Neutral  \n",
       "2           Positive  \n",
       "3           Positive  \n",
       "4           Positive  \n",
       "..               ...  \n",
       "95          Positive  \n",
       "96          Positive  \n",
       "97          Positive  \n",
       "98          Positive  \n",
       "99          Positive  \n",
       "\n",
       "[100 rows x 4 columns]"
      ]
     },
     "execution_count": 63,
     "metadata": {},
     "output_type": "execute_result"
    }
   ],
   "source": [
    "df['Polarity_Analysis'] = df['polarity'].apply(getAnalaysis)\n",
    "df"
   ]
  },
  {
   "cell_type": "code",
   "execution_count": 71,
   "metadata": {},
   "outputs": [
    {
     "name": "stdout",
     "output_type": "stream",
     "text": [
      "1): The , an unprecedented global alliance to develop &amp; deliver the tests, treatments &amp; vaccines the 🌐 needs to fight …\n",
      "\n",
      "2)Ambitious short-term goals like this are critical to moving closer to a net-zero future. As we rapidly scale the solutions we have, we must also invest in innovation to reach our ultimate goals. Thank you  for your leadership. \n",
      "\n",
      "3)It’s encouraging to see  Biden and  Kerry re-establish America’s leading role on climate change. I look forward to joining leaders from around the world to talk about some of the most important challenges we need to overcome to avoid a climate disaster. \n",
      "\n",
      "4)Yesterday's verdict was a step in the right direction. But one court ruling alone will not bring to an end the injustice and inequity that Black people experience daily.  I hope we will continue to make real progress on this.\n",
      "\n",
      "5)“Time” is a poetic portrait of a family who love and support each other despite their difficult circumstances. I can’t recommend it highly enough. \n",
      "\n",
      "6)If “Time” wins the Oscar this year, it will be the first documentary directed by a Black woman to do so. Garrett Bradley’s talent makes her worthy of that milestone. This is one of the most intimate movies I have ever seen. itsTIME \n",
      "\n",
      "7): In February, Ghana became the first African country to receive vaccines through COVAX. Meet one of the nurses spearheading the v…\n",
      "\n",
      "8)To get to net-zero emissions globally by 2050, leaders from around the world must work together. It’s encouraging to see governments, business leaders, and financial institutions committing to a successful COP26 in Glasgow later this year. \n",
      "\n",
      "9)The amount of cement China has consumed is a staggering statistic and reminder of how much emissions have grown in low- and middle-income countries. (Minecraft concrete doesn’t count, though server farms are responsible for a lot of emissions.)  \n",
      "\n",
      "10)Who installed the most concrete?\n",
      "\n",
      "Check your answer: \n",
      "\n",
      "11)The best way to prevent new variants from emerging is by stopping transmission of the virus altogether:  \n",
      "\n",
      "12)It's encouraging to see innovation and clean energy investments at the forefront of 's AmericanJobsPlan. Building markets for new energy technologies is good for jobs today and will build the economies we need while avoiding a climate disaster. \n",
      "\n",
      "13)The technological transformation we need to address climate change can create good, safe jobs and build a more equitable, prosperous economy. To make that happen, we need to think big:  \n",
      "\n",
      "14)I had a great time answering questions about my new book, climate change, and COVID-19 on  last week. Here’s a recap of the conversation. \n",
      "\n",
      "15)In this video, I answered some really good questions, including one about two really important numbers. Come ask me some questions of your own on  at 11:15:  \n",
      "\n",
      "16)I named my book “How to Avoid a Climate Disaster,” not “How to Stop Climate Change,” because our climate is already changing—and no one will be hurt more by climate change than the world’s poorest people. Here's how we can help them adapt. \n",
      "\n",
      "17)Congratulations  on this important role. I’m excited to see what you and the Earth Fund will achieve. Avoiding a climate disaster is going to take all of us, and I’m grateful for ’s leadership and partnership. \n",
      "\n",
      "18)Thank you  for a great conversation about climate change and thanks to  and  for hosting the event. \n",
      "\n",
      "19)Virologist Ruth Bishop pioneered the research that led to the discovery of rotavirus. Her legacy continues both as a role model for other researchers and in the millions of children’s lives that have been saved because of her heroic work:  IWD2021 \n",
      "\n",
      "20): On International Women’s Day, join me in celebrating some of the inspiring women who made COVID19 vaccines possible. Know…\n",
      "\n",
      "21)Thank you  for the kind words. Your leadership at the 2015 Paris climate conference helped prove that global cooperation on climate is possible and gives me hope that we can reach our goal of zero emissions. \n",
      "\n",
      "22)Moving to a green economy is the biggest challenge the world has ever faced. I’m optimistic we can do it, but need to make sure it benefits everyone—including those workers and communities who depend on the fossil fuels that we need to get rid of. \n",
      "\n",
      "23)We can’t avoid a climate disaster without corporate leaders making courageous decisions now. I hope to work with  on building the markets for the clean technologies the world needs. Thank you for the kind words, Herbert. \n",
      "\n",
      "24)Delivering vaccines to those who need them most, no matter where they live or how much money they have, is the only way to end the pandemic and begin the recovery. This is an important milestone. \n",
      "\n",
      "25)_H2020    To get to net zero, we need innovation to replace fossil fuels in everyday products like plastics.  is one of the many companies leading on this important work.\n",
      "\n",
      "26)We're fortunate to have an Energy Secretary who's focused on creating high-quality jobs to build a clean energy economy. I look forward to working with  on clean tech innovation and deployment. \n",
      "\n",
      "27)Thanks  and  for a great conversation about how we can avoid a climate disaster. \n",
      "\n",
      "28)I’m looking forward to joining  to talk about climate change, our foundation’s work in response to the pandemic, and more. \n",
      "\n",
      "29)It’s encouraging to have  John Kerry representing the U.S. to the world. Now that we've rejoined the Paris Climate Agreement, it's going to take ambitious action from U.S. leaders and those around the globe to avoid a climate disaster. \n",
      "\n",
      "30)Thanks  and  for having me on the show to talk about climate change and COVID-19 – two urgent global issues that need global collaboration. \n",
      "\n",
      "31)  I always have fun talking to . Thanks for inviting me to talk about climate change and my new book.\n",
      "\n",
      "32): I’m grateful for new commitments from the EU, Germany, Canada, Japan, and the U.S. to help make safe and effective COVID-…\n",
      "\n",
      "33)I’m inspired by ’s activism and humanitarian work. Thanks to  and  for hosting our discussion about climate change and how everyone can help. \n",
      "\n",
      "34) Thanks  for talking with me about this challenge and why we need to act now.\n",
      "\n",
      "35)Meaningful action from business leaders will require the courage to take risks that many companies aren't used to taking. \n",
      "\n",
      "36)Thanks to , , and everyone who joined our virtual conversation about climate change. Great to have so much support from my hometown for this important work. \n",
      "\n",
      "37)Great to see this important step as the United States resumes our global leadership on climate change. Looking forward to working with  and Congress on a plan to ensure we reach net zero by 2050. \n",
      "\n",
      "38)Thanks to  for hosting the launch of my virtual book tour. It was great to hear so many thoughtful questions about what we can all do to help avoid a climate disaster.\n",
      "\n",
      "39): Bill Gates on Climate Change, Covid and Whether He Has Too Much Influence \n",
      "\n",
      "40)Thanks for inviting me on the podcast, . \n",
      "\n",
      "41)Thank you, _RDG. We have a lot of work ahead of us to reach net-zero emissions by 2050 and avoid a climate disaster. Your leadership of COP26 is critical. Thanks also to ,  and  for hosting the London stop of my virtual book tour! \n",
      "\n",
      "42)It was great to talk with  about my new book and the solutions we need to fight climate change. \n",
      "\n",
      "43)  Thank you  for inviting me to talk about climate change. Solving it won’t be easy, but I believe we can do it.\n",
      "\n",
      "44)Thanks for another great conversation ! \n",
      "\n",
      "45) Thanks for inviting me to be a guest editor. We need every business leader and every industry to play a role in the fight against climate change.\n",
      "\n",
      "46)I had a great time working with  on this special digital issue about climate change. The entire business community has a role to play—and we need to start now. \n",
      "\n",
      "47)How to Avoid a Climate Disaster is available now. I hope you’ll check out the book, but more importantly, I hope you’ll do what you can to help keep the planet livable for generations to come:  \n",
      "\n",
      "48): In a digital cover story, we talked to  about his new book, \"How to Avoid a Climate Disaster.\" \n",
      "\n",
      "49)To avoid a climate disaster, we need to eliminate emissions from the ways we create electricity, grow food, make things, move around, and heat and cool our buildings. It won’t be easy, but I believe we can do it. This book is about what it will take. \n",
      "\n",
      "50)I enjoyed spending time with  recently in Seattle. We talked about why I’m optimistic that the world can get to zero greenhouse gas emissions and avoid a climate disaster:  \n",
      "\n",
      "51)I’m thrilled to join , _RDG, , , , , ,  and Monica Padman, Sal Khan, and Ariel Bissett to discuss how the world can work to avoid a climate disaster:  \n",
      "\n",
      "52)When it comes to preventing pandemics, scientific tools alone aren’t enough. We also need new capabilities, including a global alert system and infectious disease first responders (or what I like to call a pandemic fire squad):  \n",
      "\n",
      "53)This has been a year unlike any other in our lifetimes. In our new Annual Letter, Melinda and I talk about how we can turn the hard-won lessons of the pandemic into a healthier, more equal future for all. \n",
      "\n",
      "54): I believe that women can be the architects of a better world. \n",
      "\n",
      "Their stories have instilled in me both a sense of urgenc…\n",
      "\n",
      "55)One of the benefits of being 65 is that I’m eligible for the COVID-19 vaccine. I got my first dose this week, and I feel great. Thank you to all of the scientists, trial participants, regulators, and frontline healthcare workers who got us to this point. \n",
      "\n",
      "56)It’s great to see President Biden elevate science leadership to a cabinet-level position. Congratulations _lander. \n",
      "\n",
      "57)And while COVID-19 will rightfully continue to dominate the agenda, the United States also has the opportunity to lead the world in avoiding a climate disaster. The President is taking a great first step by rejoining the Paris Climate Accord.\n",
      "\n",
      "58)With Americans across the country working together, more people get a COVID-19 vaccine every day, bringing us closer to a time when life will look much more like normal. Until then, we can slow the spread of the virus and save lives by continuing to distance and wear masks.\n",
      "\n",
      "59)MLKDay has long been a national day of service. As we celebrate the first without Congressman John Lewis, I'm thinking about his powerful call to remain hopeful about the future as we work to make our country—and our world—a better place. \n",
      "\n",
      "60)It’s great to see India’s leadership in scientific innovation and vaccine manufacturing capability as the world works to end the COVID-19 pandemic  \n",
      "\n",
      "61): The best emergency system is a strong primary health system—powered by community and frontline health workers. Now is t…\n",
      "\n",
      "62)What does Rashida Jones have on her shopping list? That’s just one of the many questions that didn’t make it into our podcast. You can listen to some of the big questions we did tackle here:  \n",
      "\n",
      "63)2021 will be better than 2020. Here’s why: \n",
      "\n",
      "64)Standing up for science has never been more important. Congratulations to Dr. Anthony Fauci and Dr. Salim Abdool Karim on receiving this honor. \n",
      "\n",
      "65)I've known and learned from  for more than 40 years. I'm glad to see  team up with  to mentor and support companies working to create more economic empowerment opportunities for people across the world. \n",
      "\n",
      "66)This book has nothing to do with viruses or pandemics. But it is surprisingly relevant for these times.  provides a brilliant and gripping account of another era of widespread anxiety: the years 1940 and 1941. \n",
      "\n",
      "67)Monoclonal antibodies are one of the most promising treatments we have for COVID-19, thanks in large part to R&amp;D by Canadian scientists. Because of their generosity, people all around the world will have access to this potentially lifesaving treatment. \n",
      "\n",
      "68): We’re looking for new ways to advance AlzheimersResearch. If you have an idea for tools, models, or algorithms that will expa…\n",
      "\n",
      "69)Like many people, I’ve tried to deepen my understanding of systemic racism in recent months. If you’re interested in learning more about the lives caught up in our country's justice system, I highly recommend  by Michelle Alexander. \n",
      "\n",
      "70)The season finale of our podcast features two incredible people who are using their positions as artists to change the world for the better. \n",
      "\n"
     ]
    }
   ],
   "source": [
    "# print all the positive tweets\n",
    "j=1\n",
    "sortedDf = df.sort_values(by=['polarity'])\n",
    "for i in range (0, sortedDf.shape[0]):\n",
    "    if sortedDf['Polarity_Analysis'][i] == 'Positive':\n",
    "        print(str(j) + ')' +sortedDf['Tweets'][i])\n",
    "        print()\n",
    "        j = j+1"
   ]
  },
  {
   "cell_type": "code",
   "execution_count": 72,
   "metadata": {},
   "outputs": [
    {
     "name": "stdout",
     "output_type": "stream",
     "text": [
      "1)Communities of color have been hit hard by COVID-19. One of the reasons why parts of the medical system often fail Black and brown people is because it’s not designed with them in mind. Dr. Stephaun Wallace wants to change that. \n",
      "\n",
      "2)Dr. Stephaun Wallace () has spent the last year helping make COVID-19 vaccines work for everybody. Stephaun and his colleagues at  are working to reach the people who are usually left behind. \n",
      "\n",
      "3)It’s deeply unfair that the people who contribute the least to climate change will suffer the worst from its effects:  \n",
      "\n",
      "4): Over the past few weeks health workers in Ethiopia 🇪🇹, Nigeria 🇳🇬, Sudan 🇸🇩 and the Philippines 🇵🇭 were vaccinated against COVI…\n",
      "\n",
      "5)For decades, Australian researcher Ruth Bishop led global efforts to identify and combat rotavirus. Her life is a reminder of the importance of scientific research to uncover unknown pathogens and the power of vaccines to prevent suffering and save lives. \n",
      "\n",
      "6): Black folks have questions about the COVID-19 vaccine. I sat down w/ Black healthcare workers &amp; they answered my questions.…\n",
      "\n",
      "7)Recent extreme weather events are a stark reminder that we’re already seeing the effects of climate change here at home and around the world. This type of observation system will help scientists monitor and predict future weather events. \n",
      "\n",
      "8)There are several ways individuals can help move us closer to a zero-carbon future. Here are a few:  \n",
      "\n",
      "9): The Weekly Planet: Lately, Bill Gates has been thinking about what he calls the “hard stuff” of climate change. These hard…\n",
      "\n",
      "10): \"People who think a plan is easy are wrong. People who think a plan is impossible are wrong. It's super hard and very broad,…\n",
      "\n",
      "11): Only 3% of Black students learn computer science in high school or beyond. Please watch and share this video. Inspire a studen…\n",
      "\n",
      "12)COVID-19 has cost lives, sickened millions, and thrust the global economy into a devastating recession. But hope is on the horizon:  \n",
      "\n",
      "13)Here are four other ways that America can advance its leadership on climate change this year and put the world on a path to zero emissions by 2050:  \n",
      "\n",
      "14)The President’s commitment to reengage with the world gives me hope that the recovery will reach everyone, including communities of color in the U.S. and people in poor countries around the world.\n",
      "\n"
     ]
    }
   ],
   "source": [
    "# print all the positive tweets\n",
    "j=1\n",
    "sortedDf = df.sort_values(by=['polarity'])\n",
    "for i in range (0, sortedDf.shape[0]):\n",
    "    if sortedDf['Polarity_Analysis'][i] == 'Negative':\n",
    "        print(str(j) + ')' +sortedDf['Tweets'][i])\n",
    "        print()\n",
    "        j = j+1"
   ]
  },
  {
   "cell_type": "code",
   "execution_count": 75,
   "metadata": {},
   "outputs": [
    {
     "data": {
      "image/png": "[encoded data removed]",
      "text/plain": [
       "<Figure size 576x432 with 1 Axes>"
      ]
     },
     "metadata": {},
     "output_type": "display_data"
    }
   ],
   "source": [
    "plt.figure(figsize=(8,6))\n",
    "for i in range(0, df.shape[0]):\n",
    "  plt.scatter(df['polarity'][i], df['subjectivity'][i], color ='Blue')\n",
    "plt.title('Sentimental Analysis')\n",
    "plt.xlabel('polarity')\n",
    "plt.ylabel('subjectivity')\n",
    "plt.show()"
   ]
  },
  {
   "cell_type": "code",
   "execution_count": 76,
   "metadata": {},
   "outputs": [
    {
     "data": {
      "text/plain": [
       "70.0"
      ]
     },
     "execution_count": 76,
     "metadata": {},
     "output_type": "execute_result"
    }
   ],
   "source": [
    "# get the percentage \n",
    "ptweets = df[df.Polarity_Analysis == \"Positive\"]\n",
    "ptweets = ptweets['Tweets']\n",
    "round(ptweets.shape[0]/ df.shape[0]*100,1)"
   ]
  },
  {
   "cell_type": "code",
   "execution_count": 77,
   "metadata": {},
   "outputs": [
    {
     "data": {
      "text/plain": [
       "14.0"
      ]
     },
     "execution_count": 77,
     "metadata": {},
     "output_type": "execute_result"
    }
   ],
   "source": [
    "# get the percentage \n",
    "ptweets = df[df.Polarity_Analysis == \"Negative\"]\n",
    "ptweets = ptweets['Tweets']\n",
    "round(ptweets.shape[0]/ df.shape[0]*100,1)"
   ]
  },
  {
   "cell_type": "code",
   "execution_count": 78,
   "metadata": {},
   "outputs": [
    {
     "data": {
      "image/png": "[encoded data removed]",
      "text/plain": [
       "<Figure size 432x288 with 1 Axes>"
      ]
     },
     "metadata": {},
     "output_type": "display_data"
    }
   ],
   "source": [
    "df['Polarity_Analysis'].value_counts()\n",
    "plt.title('Sentimental Analysis')\n",
    "plt.xlabel('Sentiment')\n",
    "plt.ylabel('Counts')\n",
    "df['Polarity_Analysis'].value_counts().plot(kind='bar')\n",
    "plt.show()"
   ]
  },
  {
   "cell_type": "code",
   "execution_count": null,
   "metadata": {},
   "outputs": [],
   "source": []
  }
 ],
 "metadata": {
  "kernelspec": {
   "display_name": "Python 3",
   "language": "python",
   "name": "python3"
  },
  "language_info": {
   "codemirror_mode": {
    "name": "ipython",
    "version": 3
   },
   "file_extension": ".py",
   "mimetype": "text/x-python",
   "name": "python",
   "nbconvert_exporter": "python",
   "pygments_lexer": "ipython3",
   "version": "3.8.5"
  }
 },
 "nbformat": 4,
 "nbformat_minor": 4
}
